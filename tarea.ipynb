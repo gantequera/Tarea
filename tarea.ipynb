{
 "cells": [
  {
   "cell_type": "markdown",
   "metadata": {},
   "source": [
    "# Tarea Visualización Avanzada\n",
    "\n",
    "Para la realización de esta tarea se ha utilizado el dataset *\"Spotify Dataset 1921-2020, 600k+ Tracks\"* de Kaggle.\n",
    "\n",
    "Para acceder a la web será desde [aquí](https://www.kaggle.com/datasets/yamaerenay/spotify-dataset-19212020-600k-tracks/code).\n",
    "\n",
    "## Ficheros\n",
    "\n",
    "- artists.csv: contiene métricas de popularidad de cada artista.\n",
    "- tracks.csv: contiene los detalles de cada canción.\n",
    "- dict_artists.csv (creado): contiene un listado de artistas recomendados para fans de cada artista, ordenados de mejor a peor. Originalmente estaba en formato JSON y no tenía la columna de orden.\n",
    "- dict_track_artist.csv (creado): contiene un listado de canciones y el artista que la creó. Pueden ser varios artistas para cada canción. \n",
    "\n",
    "## Comentarios\n",
    "\n",
    "Se han excluido las canciones anteriores a 1980 de modo que se reduzcan los tamaños de los ficheros de forma considerable. Además, se han eliminado los artistas sin canciones."
   ]
  },
  {
   "cell_type": "code",
   "execution_count": 8,
   "metadata": {},
   "outputs": [],
   "source": [
    "# !pip install kagglehub pandas numpy matplotlib seaborn plotly"
   ]
  },
  {
   "cell_type": "code",
   "execution_count": 48,
   "metadata": {},
   "outputs": [
    {
     "data": {
      "text/html": [
       "        <script type=\"text/javascript\">\n",
       "        window.PlotlyConfig = {MathJaxConfig: 'local'};\n",
       "        if (window.MathJax && window.MathJax.Hub && window.MathJax.Hub.Config) {window.MathJax.Hub.Config({SVG: {font: \"STIX-Web\"}});}\n",
       "        </script>\n",
       "        <script type=\"module\">import \"https://cdn.plot.ly/plotly-3.0.1.min\"</script>\n",
       "        "
      ]
     },
     "metadata": {},
     "output_type": "display_data"
    }
   ],
   "source": [
    "import pandas as pd\n",
    "import numpy as np\n",
    "import matplotlib.pyplot as plt\n",
    "import plotly.express as px\n",
    "import plotly.graph_objects as go\n",
    "from plotly.subplots import make_subplots\n",
    "from plotly.offline import init_notebook_mode\n",
    "import seaborn as sns\n",
    "import datetime as dt\n",
    "import warnings\n",
    "warnings.filterwarnings('ignore')\n",
    "pd.set_option('display.max_columns',None)\n",
    "init_notebook_mode(connected=True)"
   ]
  },
  {
   "cell_type": "code",
   "execution_count": 3,
   "metadata": {},
   "outputs": [],
   "source": [
    "# Descarga de los datos\n",
    "\n",
    "# if not os.path.exists(\"./data/\"):\n",
    "#     os.makedirs(\"./data\", exist_ok=True)\n",
    "# if not (os.path.exists(\"./data/artists.csv\") and os.path.exists(\"./data/tracks.csv\") and os.path.exists(\"./data/dict_artists.json\")):\n",
    "#     path = kagglehub.dataset_download(\"yamaerenay/spotify-dataset-19212020-600k-tracks\")\n",
    "#     shutil.move(path, \"./data/\", copy_function=shutil.copy)\n",
    "#     for file in os.listdir(\"./data/1\"):\n",
    "#         shutil.move(os.path.join(\"./data/1\", file), \"./data/\")\n",
    "#     shutil.rmtree(path)"
   ]
  },
  {
   "cell_type": "code",
   "execution_count": 49,
   "metadata": {},
   "outputs": [],
   "source": [
    "artists_df = pd.read_csv(\"./data/artists.csv\", encoding=\"utf-8\")\n",
    "tracks_df = pd.read_csv(\"./data/tracks.csv\", encoding=\"utf-8\")\n",
    "dict_artists_df = pd.read_csv(\"./data/dict_artists.csv\", encoding=\"utf-8\")\n",
    "dict_track_artist_df = pd.read_csv(\"./data/dict_track_artist.csv\", encoding=\"utf-8\")"
   ]
  },
  {
   "cell_type": "code",
   "execution_count": 5,
   "metadata": {},
   "outputs": [],
   "source": [
    "# Creación del diccionario de artistas y sus artistas recomendados\n",
    "# with open('./data/dict_artists.json', 'r', encoding='utf-8') as f:\n",
    "#     data = json.load(f)\n",
    "# dict_df = pd.DataFrame(list(data.items()), columns=['artist', 'recommended_artists']).explode('recommended_artists')\n",
    "# dict_df['order'] = dict_df.groupby('artist').cumcount() + 1 # Añade la columna de orden\n",
    "# dict_df.to_csv(\"./data/dict_artists.csv\", index=False, encoding=\"utf-8\")"
   ]
  },
  {
   "cell_type": "code",
   "execution_count": 6,
   "metadata": {},
   "outputs": [],
   "source": [
    "# Creación del diccionario de canciones y sus artistas\n",
    "# dict_track_artist = tracks_df[['id', 'id_artists', 'artists']]\n",
    "# for col in ['id_artists', 'artists']:\n",
    "#     dict_track_artist[col] = dict_track_artist[col].apply(lambda x: ast.literal_eval(x) if isinstance(x, str) else x)\n",
    "# dict_track_artist = dict_track_artist.explode(['id_artists', 'artists']).reset_index(drop=True)\n",
    "# dict_track_artist = dict_track_artist.rename(columns={\n",
    "#     'id_artists': 'id_artist',\n",
    "#     'artists': 'artist'\n",
    "# })\n",
    "# dict_track_artist.to_csv(\"./data/dict_track_artist.csv\", index=False, encoding=\"utf-8\")"
   ]
  },
  {
   "cell_type": "code",
   "execution_count": 12,
   "metadata": {},
   "outputs": [],
   "source": [
    "# ver de tracks_df las filas cuya release_date tenga una longitud de 4 caracteres\n",
    "tracks_df[tracks_df['release_date'].str.len() == 4]\n",
    "# añadir a estos casos un \"-01-01\" al final de la fecha\n",
    "tracks_df.loc[tracks_df['release_date'].str.len() == 4, 'release_date'] += '-01-01'\n",
    "# convertir la columna release_date a datetime\n",
    "tracks_df['release_date'] = pd.to_datetime(tracks_df['release_date'], errors='coerce')"
   ]
  },
  {
   "cell_type": "code",
   "execution_count": null,
   "metadata": {},
   "outputs": [
    {
     "data": {
      "text/plain": [
       "release_date\n",
       "2020    13937\n",
       "1999    12479\n",
       "1998    12478\n",
       "1997    12347\n",
       "1996    12055\n",
       "2019    11907\n",
       "1995    11584\n",
       "2014    11252\n",
       "2016    11083\n",
       "2018    10936\n",
       "1994    10709\n",
       "2015    10591\n",
       "2013    10557\n",
       "1990    10181\n",
       "1992    10041\n",
       "1991     9908\n",
       "2017     9889\n",
       "2012     9744\n",
       "1989     9735\n",
       "2008     9714\n",
       "2011     9689\n",
       "2010     9597\n",
       "2009     9593\n",
       "2004     9251\n",
       "1988     8902\n",
       "1986     8881\n",
       "2002     8877\n",
       "2005     8856\n",
       "2007     8770\n",
       "2006     8751\n",
       "1987     8343\n",
       "1980     8279\n",
       "2003     8208\n",
       "1985     7868\n",
       "1984     7777\n",
       "1981     7599\n",
       "2000     7557\n",
       "1982     7516\n",
       "2001     7252\n",
       "1983     7105\n",
       "1993     7032\n",
       "2021     6281\n",
       "Name: count, dtype: int64"
      ]
     },
     "execution_count": 57,
     "metadata": {},
     "output_type": "execute_result"
    }
   ],
   "source": [
    "# Cantidad de canciones por año de lanzamiento\n",
    "tracks_df['release_date'].value_counts()"
   ]
  },
  {
   "cell_type": "code",
   "execution_count": null,
   "metadata": {},
   "outputs": [
    {
     "ename": "ValueError",
     "evalue": "Mime type rendering requires nbformat>=4.2.0 but it is not installed",
     "output_type": "error",
     "traceback": [
      "\u001b[31m---------------------------------------------------------------------------\u001b[39m",
      "\u001b[31mValueError\u001b[39m                                Traceback (most recent call last)",
      "\u001b[36mCell\u001b[39m\u001b[36m \u001b[39m\u001b[32mIn[61]\u001b[39m\u001b[32m, line 4\u001b[39m\n\u001b[32m      2\u001b[39m fig = px.histogram(tracks_df, x=\u001b[33m'\u001b[39m\u001b[33mrelease_date\u001b[39m\u001b[33m'\u001b[39m, nbins=\u001b[32m30\u001b[39m, title=\u001b[33m'\u001b[39m\u001b[33mCantidad de canciones por año de lanzamiento\u001b[39m\u001b[33m'\u001b[39m)\n\u001b[32m      3\u001b[39m fig.update_layout(xaxis_title=\u001b[33m'\u001b[39m\u001b[33mAño de lanzamiento\u001b[39m\u001b[33m'\u001b[39m, yaxis_title=\u001b[33m'\u001b[39m\u001b[33mCantidad de canciones\u001b[39m\u001b[33m'\u001b[39m, xaxis_tickformat=\u001b[33m'\u001b[39m\u001b[33m%\u001b[39m\u001b[33mY\u001b[39m\u001b[33m'\u001b[39m)\n\u001b[32m----> \u001b[39m\u001b[32m4\u001b[39m \u001b[43mfig\u001b[49m\u001b[43m.\u001b[49m\u001b[43mshow\u001b[49m\u001b[43m(\u001b[49m\u001b[43m)\u001b[49m\n",
      "\u001b[36mFile \u001b[39m\u001b[32md:\\Máster\\13. Visualización avanzada\\Tarea\\visualizacion\\Lib\\site-packages\\plotly\\basedatatypes.py:3420\u001b[39m, in \u001b[36mBaseFigure.show\u001b[39m\u001b[34m(self, *args, **kwargs)\u001b[39m\n\u001b[32m   3387\u001b[39m \u001b[38;5;250m\u001b[39m\u001b[33;03m\"\"\"\u001b[39;00m\n\u001b[32m   3388\u001b[39m \u001b[33;03mShow a figure using either the default renderer(s) or the renderer(s)\u001b[39;00m\n\u001b[32m   3389\u001b[39m \u001b[33;03mspecified by the renderer argument\u001b[39;00m\n\u001b[32m   (...)\u001b[39m\u001b[32m   3416\u001b[39m \u001b[33;03mNone\u001b[39;00m\n\u001b[32m   3417\u001b[39m \u001b[33;03m\"\"\"\u001b[39;00m\n\u001b[32m   3418\u001b[39m \u001b[38;5;28;01mimport\u001b[39;00m\u001b[38;5;250m \u001b[39m\u001b[34;01mplotly\u001b[39;00m\u001b[34;01m.\u001b[39;00m\u001b[34;01mio\u001b[39;00m\u001b[38;5;250m \u001b[39m\u001b[38;5;28;01mas\u001b[39;00m\u001b[38;5;250m \u001b[39m\u001b[34;01mpio\u001b[39;00m\n\u001b[32m-> \u001b[39m\u001b[32m3420\u001b[39m \u001b[38;5;28;01mreturn\u001b[39;00m \u001b[43mpio\u001b[49m\u001b[43m.\u001b[49m\u001b[43mshow\u001b[49m\u001b[43m(\u001b[49m\u001b[38;5;28;43mself\u001b[39;49m\u001b[43m,\u001b[49m\u001b[43m \u001b[49m\u001b[43m*\u001b[49m\u001b[43margs\u001b[49m\u001b[43m,\u001b[49m\u001b[43m \u001b[49m\u001b[43m*\u001b[49m\u001b[43m*\u001b[49m\u001b[43mkwargs\u001b[49m\u001b[43m)\u001b[49m\n",
      "\u001b[36mFile \u001b[39m\u001b[32md:\\Máster\\13. Visualización avanzada\\Tarea\\visualizacion\\Lib\\site-packages\\plotly\\io\\_renderers.py:415\u001b[39m, in \u001b[36mshow\u001b[39m\u001b[34m(fig, renderer, validate, **kwargs)\u001b[39m\n\u001b[32m    410\u001b[39m     \u001b[38;5;28;01mraise\u001b[39;00m \u001b[38;5;167;01mValueError\u001b[39;00m(\n\u001b[32m    411\u001b[39m         \u001b[33m\"\u001b[39m\u001b[33mMime type rendering requires ipython but it is not installed\u001b[39m\u001b[33m\"\u001b[39m\n\u001b[32m    412\u001b[39m     )\n\u001b[32m    414\u001b[39m \u001b[38;5;28;01mif\u001b[39;00m \u001b[38;5;129;01mnot\u001b[39;00m nbformat \u001b[38;5;129;01mor\u001b[39;00m Version(nbformat.__version__) < Version(\u001b[33m\"\u001b[39m\u001b[33m4.2.0\u001b[39m\u001b[33m\"\u001b[39m):\n\u001b[32m--> \u001b[39m\u001b[32m415\u001b[39m     \u001b[38;5;28;01mraise\u001b[39;00m \u001b[38;5;167;01mValueError\u001b[39;00m(\n\u001b[32m    416\u001b[39m         \u001b[33m\"\u001b[39m\u001b[33mMime type rendering requires nbformat>=4.2.0 but it is not installed\u001b[39m\u001b[33m\"\u001b[39m\n\u001b[32m    417\u001b[39m     )\n\u001b[32m    419\u001b[39m display_jupyter_version_warnings()\n\u001b[32m    421\u001b[39m ipython_display.display(bundle, raw=\u001b[38;5;28;01mTrue\u001b[39;00m)\n",
      "\u001b[31mValueError\u001b[39m: Mime type rendering requires nbformat>=4.2.0 but it is not installed"
     ]
    }
   ],
   "source": [
    "# Vamos a graficarlo"
   ]
  }
 ],
 "metadata": {
  "kernelspec": {
   "display_name": "visualizacion",
   "language": "python",
   "name": "python3"
  },
  "language_info": {
   "codemirror_mode": {
    "name": "ipython",
    "version": 3
   },
   "file_extension": ".py",
   "mimetype": "text/x-python",
   "name": "python",
   "nbconvert_exporter": "python",
   "pygments_lexer": "ipython3",
   "version": "3.11.9"
  }
 },
 "nbformat": 4,
 "nbformat_minor": 2
}
